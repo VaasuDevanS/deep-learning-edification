{
  "nbformat": 4,
  "nbformat_minor": 0,
  "metadata": {
    "colab": {
      "name": "Hyperparameter Tuning using hyperopt - RF.ipynb",
      "provenance": [],
      "collapsed_sections": [],
      "toc_visible": true
    },
    "kernelspec": {
      "name": "python3",
      "display_name": "Python 3"
    },
    "language_info": {
      "name": "python"
    }
  },
  "cells": [
    {
      "cell_type": "code",
      "source": [
        "import sys\n",
        "sys.version_info"
      ],
      "metadata": {
        "colab": {
          "base_uri": "https://localhost:8080/"
        },
        "id": "TD6YRcfaNlp6",
        "outputId": "7bbabf2d-8cb1-4bfe-d1f2-5496c05b6908"
      },
      "execution_count": 1,
      "outputs": [
        {
          "output_type": "execute_result",
          "data": {
            "text/plain": [
              "sys.version_info(major=3, minor=7, micro=13, releaselevel='final', serial=0)"
            ]
          },
          "metadata": {},
          "execution_count": 1
        }
      ]
    },
    {
      "cell_type": "markdown",
      "source": [
        "# Read dataset and Vanilla RF"
      ],
      "metadata": {
        "id": "x3vLmuBIYayi"
      }
    },
    {
      "cell_type": "code",
      "execution_count": 2,
      "metadata": {
        "id": "LIQcSJoZMids"
      },
      "outputs": [],
      "source": [
        "from sklearn.datasets import load_iris\n",
        "from sklearn.ensemble import RandomForestClassifier\n",
        "from sklearn.metrics import accuracy_score\n",
        "from sklearn.model_selection import train_test_split\n",
        "import pandas as pd"
      ]
    },
    {
      "cell_type": "code",
      "source": [
        "x, y = load_iris(return_X_y=True)\n",
        "print(x.shape, y.shape)"
      ],
      "metadata": {
        "colab": {
          "base_uri": "https://localhost:8080/"
        },
        "id": "hUezAaJdMmOk",
        "outputId": "552704fc-efc6-4e4d-cf72-982172f23a31"
      },
      "execution_count": 3,
      "outputs": [
        {
          "output_type": "stream",
          "name": "stdout",
          "text": [
            "(150, 4) (150,)\n"
          ]
        }
      ]
    },
    {
      "cell_type": "code",
      "source": [
        "x_train, x_test, y_train, y_test = train_test_split(x, y, test_size=0.3)\n",
        "print(x_train.shape, x_test.shape)"
      ],
      "metadata": {
        "colab": {
          "base_uri": "https://localhost:8080/"
        },
        "id": "ZLBqJNiMNZuH",
        "outputId": "b9ae917b-9f9f-43b0-cde3-f68ca927221b"
      },
      "execution_count": 4,
      "outputs": [
        {
          "output_type": "stream",
          "name": "stdout",
          "text": [
            "(105, 4) (45, 4)\n"
          ]
        }
      ]
    },
    {
      "cell_type": "code",
      "source": [
        "rf = RandomForestClassifier(random_state=42)"
      ],
      "metadata": {
        "id": "IT4-tHIYNgfM"
      },
      "execution_count": 5,
      "outputs": []
    },
    {
      "cell_type": "code",
      "source": [
        "rf.fit(x_train, y_train)"
      ],
      "metadata": {
        "colab": {
          "base_uri": "https://localhost:8080/"
        },
        "id": "-yW37iLxOIyL",
        "outputId": "6532ad45-7d64-4585-d3cd-ce5d32a5a5c7"
      },
      "execution_count": 6,
      "outputs": [
        {
          "output_type": "execute_result",
          "data": {
            "text/plain": [
              "RandomForestClassifier(random_state=42)"
            ]
          },
          "metadata": {},
          "execution_count": 6
        }
      ]
    },
    {
      "cell_type": "code",
      "source": [
        "rf.score(x_test, y_test)"
      ],
      "metadata": {
        "colab": {
          "base_uri": "https://localhost:8080/"
        },
        "id": "h9YG3Wz1OwQz",
        "outputId": "237b9c2c-7fd5-4624-95fa-7219cd0b1b36"
      },
      "execution_count": 7,
      "outputs": [
        {
          "output_type": "execute_result",
          "data": {
            "text/plain": [
              "0.9555555555555556"
            ]
          },
          "metadata": {},
          "execution_count": 7
        }
      ]
    },
    {
      "cell_type": "markdown",
      "source": [
        "# Tuning\n",
        "https://towardsdatascience.com/optimise-your-hyperparameter-tuning-with-hyperopt-861573239eb5  \n",
        "https://towardsdatascience.com/automated-machine-learning-hyperparameter-tuning-in-python-dfda59b72f8a"
      ],
      "metadata": {
        "id": "elDQxjU_PZ3b"
      }
    },
    {
      "cell_type": "code",
      "source": [
        "rf.get_params()"
      ],
      "metadata": {
        "colab": {
          "base_uri": "https://localhost:8080/"
        },
        "id": "bcNG_k4URrlA",
        "outputId": "a8bd0f08-143f-4d6a-ee7c-9a62d661d029"
      },
      "execution_count": 8,
      "outputs": [
        {
          "output_type": "execute_result",
          "data": {
            "text/plain": [
              "{'bootstrap': True,\n",
              " 'ccp_alpha': 0.0,\n",
              " 'class_weight': None,\n",
              " 'criterion': 'gini',\n",
              " 'max_depth': None,\n",
              " 'max_features': 'auto',\n",
              " 'max_leaf_nodes': None,\n",
              " 'max_samples': None,\n",
              " 'min_impurity_decrease': 0.0,\n",
              " 'min_samples_leaf': 1,\n",
              " 'min_samples_split': 2,\n",
              " 'min_weight_fraction_leaf': 0.0,\n",
              " 'n_estimators': 100,\n",
              " 'n_jobs': None,\n",
              " 'oob_score': False,\n",
              " 'random_state': 42,\n",
              " 'verbose': 0,\n",
              " 'warm_start': False}"
            ]
          },
          "metadata": {},
          "execution_count": 8
        }
      ]
    },
    {
      "cell_type": "code",
      "source": [
        "%%capture\n",
        "!pip install -U hyperopt\n",
        "from hyperopt import fmin, hp, tpe, Trials, space_eval, STATUS_OK"
      ],
      "metadata": {
        "id": "g0pwmTtGPak0"
      },
      "execution_count": 9,
      "outputs": []
    },
    {
      "cell_type": "code",
      "source": [
        "def objective(search_space):\n",
        "    model = RandomForestClassifier(**search_space, random_state=42)\n",
        "    model.fit(x_train, y_train)\n",
        "    y_pred = model.predict(x_test)\n",
        "    accuracy = accuracy_score(y_test, y_pred)\n",
        "    return {'loss': -accuracy, 'status': STATUS_OK}"
      ],
      "metadata": {
        "id": "lvLPDsrbP7Yo"
      },
      "execution_count": 10,
      "outputs": []
    },
    {
      "cell_type": "code",
      "source": [
        "search_space = {\n",
        "    'n_estimators': hp.randint('n_estimators', 200, 1000),\n",
        "    'max_depth': hp.randint('max_depth', 10, 200),               \n",
        "    'min_samples_split': hp.uniform('min_samples_split', 0, 1),                \n",
        "    'min_samples_leaf': hp.randint('min_samples_leaf', 1, 10),       \n",
        "    'criterion': hp.choice('criterion', ['gini', 'entropy']),        \n",
        "    'max_features': hp.choice('max_features', ['sqrt', 'log2'])\n",
        "}\n",
        "\n",
        "# Tree of Parzen Estimators (Bayesian)\n",
        "algorithm = tpe.suggest\n",
        "MAX_EVALS = 6 * 20\n",
        "bayes_trials = Trials()"
      ],
      "metadata": {
        "id": "5mW0EXB1Uv8G"
      },
      "execution_count": 11,
      "outputs": []
    },
    {
      "cell_type": "code",
      "source": [
        "optimize = fmin(\n",
        "    fn=objective,\n",
        "    space=search_space,\n",
        "    algo=algorithm,\n",
        "    max_evals=MAX_EVALS,\n",
        "    trials=bayes_trials,\n",
        ")"
      ],
      "metadata": {
        "colab": {
          "base_uri": "https://localhost:8080/"
        },
        "id": "lpSLydBJQKHl",
        "outputId": "d484ce49-03ab-4663-ec13-e3e66c6c6c16"
      },
      "execution_count": 12,
      "outputs": [
        {
          "output_type": "stream",
          "name": "stdout",
          "text": [
            "100%|██████████| 120/120 [02:05<00:00,  1.04s/trial, best loss: -0.9555555555555556]\n"
          ]
        }
      ]
    },
    {
      "cell_type": "code",
      "source": [
        "best_params = space_eval(search_space, optimize)\n",
        "best_params"
      ],
      "metadata": {
        "colab": {
          "base_uri": "https://localhost:8080/"
        },
        "id": "6NERcapjV1KM",
        "outputId": "fe508e18-e399-4d67-d689-53c0b8707b6b"
      },
      "execution_count": 13,
      "outputs": [
        {
          "output_type": "execute_result",
          "data": {
            "text/plain": [
              "{'criterion': 'entropy',\n",
              " 'max_depth': 28,\n",
              " 'max_features': 'sqrt',\n",
              " 'min_samples_leaf': 1,\n",
              " 'min_samples_split': 0.1607131131788666,\n",
              " 'n_estimators': 750}"
            ]
          },
          "metadata": {},
          "execution_count": 13
        }
      ]
    },
    {
      "cell_type": "code",
      "source": [
        "best_rf = RandomForestClassifier(**best_params, random_state=42)\n",
        "best_rf.fit(x_train, y_train)\n",
        "best_rf.score(x_test, y_test)"
      ],
      "metadata": {
        "colab": {
          "base_uri": "https://localhost:8080/"
        },
        "id": "rgi1J8woQPTu",
        "outputId": "45d929f1-b78b-4b49-e164-58a1a38b875a"
      },
      "execution_count": 14,
      "outputs": [
        {
          "output_type": "execute_result",
          "data": {
            "text/plain": [
              "0.9555555555555556"
            ]
          },
          "metadata": {},
          "execution_count": 14
        }
      ]
    },
    {
      "cell_type": "code",
      "source": [
        "# bayes_trials.results"
      ],
      "metadata": {
        "id": "CP-kHY7mV8tm"
      },
      "execution_count": 15,
      "outputs": []
    }
  ]
}
